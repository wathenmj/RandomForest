{
 "cells": [
  {
   "cell_type": "code",
   "execution_count": 1,
   "metadata": {
    "collapsed": true
   },
   "outputs": [],
   "source": [
    "import pandas as pd\n",
    "import numpy as np\n",
    "import sklearn.ensemble\n",
    "\n",
    "#importing RandomForestClassifier\n",
    "from sklearn.ensemble import RandomForestClassifier \n",
    "\n",
    "#get_ipython().magic('matplotlib inline')\n",
    "import matplotlib.pyplot as py"
   ]
  },
  {
   "cell_type": "code",
   "execution_count": null,
   "metadata": {
    "collapsed": false
   },
   "outputs": [],
   "source": [
    "#reading the data file\n",
    "raw_file = pd.read_csv('ceu_yri_chb_A.raw', sep=\" \",nrows=310)\n",
    "raw_file.head(3)"
   ]
  },
  {
   "cell_type": "code",
   "execution_count": null,
   "metadata": {
    "collapsed": false
   },
   "outputs": [],
   "source": [
    "#deleting the columns not part of the model\n",
    "raw_file = raw_file.drop(raw_file.columns[[0,1,2,3,4,5]],axis=1)\n",
    "#print(raw_file.head())"
   ]
  },
  {
   "cell_type": "code",
   "execution_count": null,
   "metadata": {
    "collapsed": true
   },
   "outputs": [],
   "source": [
    "snps = list(raw_file.columns.values)"
   ]
  },
  {
   "cell_type": "code",
   "execution_count": null,
   "metadata": {
    "collapsed": false
   },
   "outputs": [],
   "source": [
    "len(snps)"
   ]
  },
  {
   "cell_type": "code",
   "execution_count": null,
   "metadata": {
    "collapsed": true
   },
   "outputs": [],
   "source": [
    "pops = pd.read_csv('pop_names', sep=\" \",nrows=310)\n",
    "pops = pops.drop('IID',axis=1)\n"
   ]
  },
  {
   "cell_type": "code",
   "execution_count": null,
   "metadata": {
    "collapsed": true
   },
   "outputs": [],
   "source": [
    "y = np.array(pops['pop'])\n",
    "#converting the covariates into a matrix\n",
    "X = raw_file.as_matrix(columns=None)\n"
   ]
  },
  {
   "cell_type": "code",
   "execution_count": null,
   "metadata": {
    "collapsed": true
   },
   "outputs": [],
   "source": [
    "num_estimators = [250,500,1000,2000,3000,4000,5000]\n",
    "oob_scores = []"
   ]
  },
  {
   "cell_type": "code",
   "execution_count": null,
   "metadata": {
    "collapsed": true
   },
   "outputs": [],
   "source": [
    "#loop to create the models with different estimator counts\n",
    "for num in num_estimators:\n",
    "    rf = RandomForestClassifier(n_estimators=num,criterion='gini',oob_score=True)\n",
    "    rf.fit(X,y)\n",
    "    oob_scores.append(rf.oob_score_)\n",
    "    importances = rf.feature_importances_\n",
    "    importances_dict, sorted_importances_dict = {},{}\n",
    "    #filtering importances\n",
    "    for i in range(len(importances)):\n",
    "        if(importances[i]>0):\n",
    "            importances_dict[snps[i]] = importances[i]\n",
    "    #sorting importance dictionary\n",
    "    sorted_importances_snps = sorted(importances_dict, key=lambda x: importances_dict[x], reverse = True)\n",
    "    #generating sorted importances dictionary\n",
    "    for snp in sorted_importances_snps:\n",
    "        sorted_importances_dict[snp] = importances_dict[snp]\n",
    "    #witing to a file\n",
    "    fw = open(\"Importances_rf//importances_\"+str(num)+\".txt\",\"w\")\n",
    "    fw.write(\"SNP\\tImportance\\n\")\n",
    "    for key,val in sorted_importances_dict:\n",
    "        fw.write(str(key)+'\\t')\n",
    "        fw.write(str(val)+'\\n')\n",
    "    fw.close()"
   ]
  },
  {
   "cell_type": "code",
   "execution_count": null,
   "metadata": {
    "collapsed": true
   },
   "outputs": [],
   "source": [
    "oob_scores = np.array(oob_scores)\n",
    "oob_errors = 1 - oob_scores"
   ]
  },
  {
   "cell_type": "code",
   "execution_count": null,
   "metadata": {
    "collapsed": true
   },
   "outputs": [],
   "source": [
    "#print(oob_errors)\n",
    "#plotting the oob error vs number of trees in rf\n",
    "py.plot(num_estimators,oob_errors)\n",
    "py.xlabel('Number of Trees')\n",
    "py.ylabel('OOB Error')\n",
    "py.show()"
   ]
  },
  {
   "cell_type": "code",
   "execution_count": null,
   "metadata": {
    "collapsed": true
   },
   "outputs": [],
   "source": []
  }
 ],
 "metadata": {
  "kernelspec": {
   "display_name": "Python 3",
   "language": "python",
   "name": "python3"
  },
  "language_info": {
   "codemirror_mode": {
    "name": "ipython",
    "version": 3
   },
   "file_extension": ".py",
   "mimetype": "text/x-python",
   "name": "python",
   "nbconvert_exporter": "python",
   "pygments_lexer": "ipython3",
   "version": "3.6.0"
  }
 },
 "nbformat": 4,
 "nbformat_minor": 2
}
